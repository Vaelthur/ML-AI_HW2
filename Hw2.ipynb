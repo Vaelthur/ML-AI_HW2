{
  "nbformat": 4,
  "nbformat_minor": 0,
  "metadata": {
    "colab": {
      "name": "Hw2.ipynb",
      "provenance": [],
      "collapsed_sections": []
    },
    "kernelspec": {
      "name": "python3",
      "display_name": "Python 3"
    },
    "accelerator": "GPU"
  },
  "cells": [
    {
      "cell_type": "markdown",
      "metadata": {
        "id": "c9QcGnGPdX2C",
        "colab_type": "text"
      },
      "source": [
        "\n",
        "**Install requirements**"
      ]
    },
    {
      "cell_type": "code",
      "metadata": {
        "id": "k9O3aM3Tb28q",
        "colab_type": "code",
        "outputId": "4fb072d1-3500-4f6e-98ec-1654693cb626",
        "colab": {
          "base_uri": "https://localhost:8080/",
          "height": 191
        }
      },
      "source": [
        "!pip3 install 'torch==1.3.1' \n",
        "!pip3 install 'torchvision==0.4.2'\n",
        "!pip3 install 'Pillow-SIMD'\n",
        "!pip3 install 'tqdm'"
      ],
      "execution_count": 1,
      "outputs": [
        {
          "output_type": "stream",
          "text": [
            "Requirement already satisfied: torch==1.3.1 in /usr/local/lib/python3.6/dist-packages (1.3.1)\n",
            "Requirement already satisfied: numpy in /usr/local/lib/python3.6/dist-packages (from torch==1.3.1) (1.17.4)\n",
            "Requirement already satisfied: torchvision==0.4.2 in /usr/local/lib/python3.6/dist-packages (0.4.2)\n",
            "Requirement already satisfied: numpy in /usr/local/lib/python3.6/dist-packages (from torchvision==0.4.2) (1.17.4)\n",
            "Requirement already satisfied: six in /usr/local/lib/python3.6/dist-packages (from torchvision==0.4.2) (1.12.0)\n",
            "Requirement already satisfied: pillow>=4.1.1 in /usr/local/lib/python3.6/dist-packages (from torchvision==0.4.2) (4.3.0)\n",
            "Requirement already satisfied: torch==1.3.1 in /usr/local/lib/python3.6/dist-packages (from torchvision==0.4.2) (1.3.1)\n",
            "Requirement already satisfied: olefile in /usr/local/lib/python3.6/dist-packages (from pillow>=4.1.1->torchvision==0.4.2) (0.46)\n",
            "Requirement already satisfied: Pillow-SIMD in /usr/local/lib/python3.6/dist-packages (6.0.0.post0)\n",
            "Requirement already satisfied: tqdm in /usr/local/lib/python3.6/dist-packages (4.28.1)\n"
          ],
          "name": "stdout"
        }
      ]
    },
    {
      "cell_type": "markdown",
      "metadata": {
        "id": "fo942LMOdlh4",
        "colab_type": "text"
      },
      "source": [
        "**Import libraries**"
      ]
    },
    {
      "cell_type": "code",
      "metadata": {
        "id": "DokFOdD1dJEl",
        "colab_type": "code",
        "colab": {}
      },
      "source": [
        "import os\n",
        "import logging\n",
        "\n",
        "import torch\n",
        "import torch.nn as nn\n",
        "import torch.optim as optim\n",
        "from torch.utils.data import Subset, DataLoader\n",
        "from torch.backends import cudnn\n",
        "\n",
        "import torchvision\n",
        "from torchvision import transforms\n",
        "from torchvision.models import alexnet\n",
        "\n",
        "from PIL import Image\n",
        "from tqdm import tqdm"
      ],
      "execution_count": 0,
      "outputs": []
    },
    {
      "cell_type": "markdown",
      "metadata": {
        "id": "OIDLJuIXK_vh",
        "colab_type": "text"
      },
      "source": [
        "**Set Arguments**"
      ]
    },
    {
      "cell_type": "code",
      "metadata": {
        "id": "d5PkYfqfK_SA",
        "colab_type": "code",
        "colab": {}
      },
      "source": [
        "DEVICE = 'cuda' # 'cuda' or 'cpu'\n",
        "\n",
        "NUM_CLASSES = 101 # 101 + 1: There is am extra Background class that should be removed \n",
        "# ^ Set the number of classes to 101 since i filtered out the BACKGROUND class \n",
        "\n",
        "BATCH_SIZE = 2560     # Higher batch sizes allows for larger learning rates. An empirical heuristic suggests that, when changing\n",
        "                     # the batch size, learning rate should change by the same factor to have comparable results\n",
        "\n",
        "LR = 1e-2            # The initial Learning Rate\n",
        "MOMENTUM = 0.9       # Hyperparameter for SGD, keep this at 0.9 when using SGD\n",
        "WEIGHT_DECAY = 5e-5  # Regularization, you can keep this at the default\n",
        "\n",
        "NUM_EPOCHS = 30      # Total number of training epochs (iterations over dataset)\n",
        "STEP_SIZE = 20       # How many epochs before decreasing learning rate (if using a step-down policy)\n",
        "GAMMA = 0.1          # Multiplicative factor for learning rate step-down\n",
        "\n",
        "LOG_FREQUENCY = 10"
      ],
      "execution_count": 0,
      "outputs": []
    },
    {
      "cell_type": "markdown",
      "metadata": {
        "id": "_um8jOKcorgQ",
        "colab_type": "text"
      },
      "source": [
        "**Caltech_101 class provided by teachers**"
      ]
    },
    {
      "cell_type": "code",
      "metadata": {
        "id": "kgy3_7cKoquL",
        "colab_type": "code",
        "colab": {}
      },
      "source": [
        "from torchvision.datasets import VisionDataset\n",
        "\n",
        "from PIL import Image\n",
        "\n",
        "import os\n",
        "import os.path\n",
        "import sys\n",
        "\n",
        "\n",
        "def pil_loader(path):\n",
        "    # open path as file to avoid ResourceWarning (https://github.com/python-pillow/Pillow/issues/835)\n",
        "    with open(path, 'rb') as f:\n",
        "        img = Image.open(f)\n",
        "        return img.convert('RGB')\n",
        "\n",
        "\n",
        "class Caltech(VisionDataset):\n",
        "    def __init__(self, root, split='train', transform=None, target_transform=None):\n",
        "        super(Caltech, self).__init__(root, transform=transform, target_transform=target_transform)\n",
        "\n",
        "        self.split = split # This defines the split you are going to use\n",
        "                           # (split files are called 'train.txt' and 'test.txt')\n",
        "\n",
        "        '''\n",
        "        - Here you should implement the logic for reading the splits files and accessing elements\n",
        "        - If the RAM size allows it, it is faster to store all data in memory\n",
        "        - PyTorch Dataset classes use indexes to read elements\n",
        "        - You should provide a way for the __getitem__ method to access the image-label pair\n",
        "          through the index\n",
        "        - Labels should start from 0, so for Caltech you will have lables 0...100 (excluding the background class) \n",
        "        '''\n",
        "\n",
        "        # Open file in read only mode and read all lines\n",
        "        file = open(self.split, \"r\")\n",
        "        lines = file.readlines()\n",
        "\n",
        "        file.close()\n",
        "\n",
        "        # Filter out the lines which start with 'BACKGROUND_Google' as asked in the homework\n",
        "        self.elements = [i for i in lines if not i.startswith('BACKGROUND_Google')]\n",
        "\n",
        "        # Delete BACKGROUND_Google class from dataset labels\n",
        "        self.classes = sorted(os.listdir(os.path.join(self.root, \"\")))\n",
        "        self.classes.remove(\"BACKGROUND_Google\")\n",
        "\n",
        "\n",
        "    def __getitem__(self, index):\n",
        "        ''' \n",
        "        __getitem__ should access an element through its index\n",
        "        Args:\n",
        "            index (int): Index\n",
        "        Returns:\n",
        "            tuple: (sample, target) where target is class_index of the target class.\n",
        "        '''\n",
        "\n",
        "        img = pil_loader(os.path.join(self.root, self.elements[index].rstrip()))\n",
        "\n",
        "        target = self.classes.index(self.elements[index].rstrip().split('/')[0])\n",
        "\n",
        "        image, label = img, target # Provide a way to access image and label via index\n",
        "                           # Image should be a PIL Image\n",
        "                           # label can be int\n",
        "\n",
        "        # Applies preprocessing when accessing the image\n",
        "        if self.transform is not None:\n",
        "            image = self.transform(image)\n",
        "\n",
        "        return image, label\n",
        "\n",
        "    def __len__(self):\n",
        "        '''\n",
        "        The __len__ method returns the length of the dataset\n",
        "        It is mandatory, as this is used by several other components\n",
        "        '''\n",
        "        # Provides a way to get the length (number of elements) of the dataset\n",
        "        length =  len(self.elements)\n",
        "        return length"
      ],
      "execution_count": 0,
      "outputs": []
    },
    {
      "cell_type": "markdown",
      "metadata": {
        "id": "9gwii0TBHvzh",
        "colab_type": "text"
      },
      "source": [
        "**Define Data Preprocessing**"
      ]
    },
    {
      "cell_type": "code",
      "metadata": {
        "id": "QUDdw4j2H0Mc",
        "colab_type": "code",
        "colab": {}
      },
      "source": [
        "# Define transforms for training phase\n",
        "train_transform = transforms.Compose([transforms.Resize(256),      # Resizes short size of the PIL image to 256\n",
        "                                      transforms.CenterCrop(224),  # Crops a central square patch of the image\n",
        "                                                                   # 224 because torchvision's AlexNet needs a 224x224 input!\n",
        "                                                                   # Remember this when applying different transformations, otherwise you get an error\n",
        "                                      transforms.ToTensor(), # Turn PIL Image to torch.Tensor\n",
        "                                      transforms.Normalize((0.5, 0.5, 0.5), (0.5, 0.5, 0.5)) # Normalizes tensor with mean and standard deviation\n",
        "])\n",
        "# Define transforms for the evaluation phase\n",
        "eval_transform = transforms.Compose([transforms.Resize(256),\n",
        "                                      transforms.CenterCrop(224),\n",
        "                                      transforms.ToTensor(),\n",
        "                                      transforms.Normalize((0.5, 0.5, 0.5), (0.5, 0.5, 0.5))                                    \n",
        "])\n",
        "\n",
        "#Imagenet transforms \n",
        "img_transform = transforms.Compose([transforms.Resize(256),\n",
        "                                      transforms.CenterCrop(224),\n",
        "                                      transforms.ToTensor(),\n",
        "                                      transforms.Normalize((0.485, 0.456, 0.406), (0.229, 0.224, 0.225))\n",
        "])"
      ],
      "execution_count": 0,
      "outputs": []
    },
    {
      "cell_type": "markdown",
      "metadata": {
        "id": "2qYIHPzYLY7i",
        "colab_type": "text"
      },
      "source": [
        "**Prepare Dataset**"
      ]
    },
    {
      "cell_type": "code",
      "metadata": {
        "id": "QfVq_uDHLbsR",
        "colab_type": "code",
        "colab": {}
      },
      "source": [
        "from sklearn.model_selection import train_test_split #for splitting stuff\n",
        "\n",
        "# Clone github repository with data\n",
        "if not os.path.isdir('./Homework2-Caltech101'):\n",
        "  !git clone https://github.com/MachineLearning2020/Homework2-Caltech101.git\n",
        "\n",
        "# Commands to execute when there is an error saying directory ./Homework2-Caltech101/ is already present and not empty\n",
        "!rm -r ./Homework2-Caltech101/\n",
        "!git clone https://github.com/MachineLearning2020/Homework2-Caltech101.git\n",
        "\n",
        "DATA_DIR = 'Homework2-Caltech101/101_ObjectCategories'\n",
        "SPLIT_TRAIN = 'Homework2-Caltech101/train.txt'\n",
        "SPLIT_TEST = 'Homework2-Caltech101/test.txt'\n",
        "\n",
        "# # Prepare Pytorch train/test Datasets\n",
        "# train_dataset = torchvision.datasets.ImageFolder(DATA_DIR, transform=train_transform)\n",
        "# test_dataset = torchvision.datasets.ImageFolder(DATA_DIR, transform=eval_transform)\n",
        "\n",
        "# # Indexes help divide the dataset into 4/5 for the training set and 1/5 for the test set\n",
        "# train_indexes = [idx for idx in range(len(train_dataset)) if idx % 5]\n",
        "# test_indexes = [idx for idx in range(len(test_dataset)) if not idx % 5]\n",
        "\n",
        "# train_dataset = Subset(train_dataset, train_indexes)\n",
        "# test_dataset = Subset(test_dataset, test_indexes)\n",
        "\n",
        "# # Check dataset sizes\n",
        "# print('Train Dataset: {}'.format(len(train_dataset)))\n",
        "# print('Test Dataset: {}'.format(len(test_dataset)))\n",
        "\n",
        "# 1 - Data preparation\n",
        "myTrainDS = Caltech(DATA_DIR, split = SPLIT_TRAIN, transform=train_transform)\n",
        "myTestDS = Caltech(DATA_DIR, split = SPLIT_TEST, transform=eval_transform)\n",
        "\n",
        "print('My Train DS: {}'.format(len(myTrainDS)))\n",
        "print('My Test DS: {}'.format(len(myTestDS)))\n",
        "\n",
        "\n",
        "# 2 - Training from scratch\n",
        "# Open the train.txt file and instantiate two lists \n",
        "training = open(SPLIT_TRAIN, \"r\")\n",
        "buffer = training.readlines()\n",
        "buffer_class = []\n",
        "\n",
        "training.close()\n",
        "\n",
        "# Add each class of the buffer's corresponding entry to the buffer_class list \n",
        "# In this way the element in buffer[i] will be of class buffer_class[i]\n",
        "for ent in buffer:\n",
        "  cl = ent.rstrip().split('/')[0]\n",
        "  buffer_class.append(cl)\n",
        "\n",
        "# I used the train_test_split method with the option stratify to have same percentage of examples of each class\n",
        "# both in train and validation dataset\n",
        "train, validation, y_tr, y_val = train_test_split(buffer, buffer_class, test_size=0.5, stratify=buffer_class)\n",
        "\n",
        "# Here i simply create two files and write down the new entry and validation splits.\n",
        "t = open(\"Homework2-Caltech101/train_2.txt\", \"w+\")\n",
        "v = open(\"Homework2-Caltech101/validation_2.txt\", \"w+\")\n",
        "\n",
        "for e in train:\n",
        "  t.write(e)\n",
        "\n",
        "for e in validation:\n",
        "  v.write(e)\n",
        "\n",
        "t.close()\n",
        "v.close()\n",
        "\n",
        "TRAIN2 = 'Homework2-Caltech101/train_2.txt'\n",
        "VALID2 = 'Homework2-Caltech101/validation_2.txt'\n",
        "\n",
        "# Now from here I can create two datasets for the train2 and val2\n",
        "train2 = Caltech(DATA_DIR, split = TRAIN2, transform=train_transform)\n",
        "valid2 = Caltech(DATA_DIR, split = VALID2, transform=eval_transform)\n",
        "\n",
        "imgnet = Caltech(DATA_DIR, split = SPLIT_TEST, transform=img_transform)"
      ],
      "execution_count": 0,
      "outputs": []
    },
    {
      "cell_type": "markdown",
      "metadata": {
        "id": "FYEDQ7Z21ldN",
        "colab_type": "text"
      },
      "source": [
        "**Prepare Dataloaders**"
      ]
    },
    {
      "cell_type": "code",
      "metadata": {
        "id": "VriRw8SI1nle",
        "colab_type": "code",
        "colab": {}
      },
      "source": [
        "# # Dataloaders iterate over pytorch datasets and transparently provide useful functions (e.g. parallelization and shuffling)\n",
        "# train_dataloader = DataLoader(train_dataset, batch_size=BATCH_SIZE, shuffle=True, num_workers=4, drop_last=True)\n",
        "# test_dataloader = DataLoader(test_dataset, batch_size=BATCH_SIZE, shuffle=False, num_workers=4)\n",
        "\n",
        "# 1 - Data preparation - My dataloaders for this point\n",
        "myTrain_dataloader = DataLoader(myTrainDS, batch_size=BATCH_SIZE, shuffle=True, num_workers=4, drop_last=True)\n",
        "myTest_dataloader = DataLoader(myTestDS, batch_size=BATCH_SIZE, shuffle=False, num_workers=4)\n",
        "\n",
        "# 2 - Training from scratch\n",
        "TDL2 = DataLoader(train2, batch_size=BATCH_SIZE, shuffle=True, num_workers=4, drop_last=True)\n",
        "EDL2 = DataLoader(valid2, batch_size=BATCH_SIZE, shuffle=False, num_workers=4)\n",
        "# Test data loader remains the same from the previous point"
      ],
      "execution_count": 0,
      "outputs": []
    },
    {
      "cell_type": "markdown",
      "metadata": {
        "id": "gbZ1t5Qs2z4j",
        "colab_type": "text"
      },
      "source": [
        "**Prepare Network**"
      ]
    },
    {
      "cell_type": "code",
      "metadata": {
        "id": "exHUjtXa22DN",
        "colab_type": "code",
        "colab": {}
      },
      "source": [
        "net = alexnet() # Loading AlexNet model\n",
        "bestnet = alexnet() # Best network from validation phase\n",
        "# AlexNet has 1000 output neurons, corresponding to the 1000 ImageNet's classes\n",
        "# We need 101 outputs for Caltech-101\n",
        "net.classifier[6] = nn.Linear(4096, NUM_CLASSES) # nn.Linear in pytorch is a fully connected layer\n",
        "                                                 # The convolutional layer is nn.Conv2d\n",
        "bestnet.classifier[6] = nn.Linear(4096, NUM_CLASSES)\n",
        "# We just changed the last layer of AlexNet with a new fully connected layer with 101 outputs\n",
        "# It is mandatory to study torchvision.models.alexnet source code"
      ],
      "execution_count": 0,
      "outputs": []
    },
    {
      "cell_type": "markdown",
      "metadata": {
        "id": "KEyL3H_R4qCf",
        "colab_type": "text"
      },
      "source": [
        "**Prepare Training**"
      ]
    },
    {
      "cell_type": "code",
      "metadata": {
        "id": "9sjq00G94tSc",
        "colab_type": "code",
        "colab": {}
      },
      "source": [
        "# Define loss function\n",
        "criterion = nn.CrossEntropyLoss() # for classification, we use Cross Entropy\n",
        "\n",
        "# Choose parameters to optimize\n",
        "# To access a different set of parameters, you have to access submodules of AlexNet\n",
        "# (nn.Module objects, like AlexNet, implement the Composite Pattern)\n",
        "# e.g.: parameters of the fully connected layers: net.classifier.parameters()\n",
        "# e.g.: parameters of the convolutional layers: look at alexnet's source code ;) \n",
        "parameters_to_optimize = net.parameters() # In this case we optimize over all the parameters of AlexNet\n",
        "best_parameters_to_optimize = bestnet.parameters()\n",
        "# Define optimizer\n",
        "# An optimizer updates the weights based on loss\n",
        "# We use SGD with momentum\n",
        "optimizer = optim.SGD(parameters_to_optimize, lr=LR, momentum=MOMENTUM, weight_decay=WEIGHT_DECAY)\n",
        "best_optimizer = optim.SGD(best_parameters_to_optimize, lr=LR, momentum=MOMENTUM, weight_decay=WEIGHT_DECAY)\n",
        "# Define scheduler\n",
        "# A scheduler dynamically changes learning rate\n",
        "# The most common schedule is the step(-down), which multiplies learning rate by gamma every STEP_SIZE epochs\n",
        "scheduler = optim.lr_scheduler.StepLR(optimizer, step_size=STEP_SIZE, gamma=GAMMA)\n",
        "best_scheduler = optim.lr_scheduler.StepLR(best_optimizer, step_size=STEP_SIZE, gamma=GAMMA)"
      ],
      "execution_count": 0,
      "outputs": []
    },
    {
      "cell_type": "markdown",
      "metadata": {
        "id": "AxYUli9d9uYQ",
        "colab_type": "text"
      },
      "source": [
        "**Train**"
      ]
    },
    {
      "cell_type": "code",
      "metadata": {
        "id": "ZcoQ5fD49yT_",
        "colab_type": "code",
        "colab": {}
      },
      "source": [
        "import copy\n",
        "# By default, everything is loaded to cpu\n",
        "net = net.to(DEVICE) # this will bring the network to GPU if DEVICE is cuda\n",
        "\n",
        "cudnn.benchmark # Calling this optimizes runtime\n",
        "\n",
        "current_step = 0\n",
        "# Start iterating over the epochs - SOURCE CODE AS GIVEN BY TEACHERS\n",
        "\n",
        "# for epoch in range(NUM_EPOCHS):\n",
        "#   print('Starting epoch {}/{}, LR = {}'.format(epoch+1, NUM_EPOCHS, scheduler.get_lr()))\n",
        "\n",
        "#   # Iterate over the dataset\n",
        "#   for images, labels in train_dataloader:\n",
        "\n",
        "#     # Bring data over the device of choice\n",
        "#     images = images.to(DEVICE)\n",
        "#     labels = labels.to(DEVICE)\n",
        "\n",
        "#     net.train() # Sets module in training mode\n",
        "\n",
        "#     # PyTorch, by default, accumulates gradients after each backward pass\n",
        "#     # We need to manually set the gradients to zero before starting a new iteration\n",
        "#     optimizer.zero_grad() # Zero-ing the gradients\n",
        "\n",
        "#     # Forward pass to the network\n",
        "#     outputs = net(images)\n",
        "\n",
        "#     # Compute loss based on output and ground truth\n",
        "#     loss = criterion(outputs, labels)\n",
        "\n",
        "#     # Log loss\n",
        "#     if current_step % LOG_FREQUENCY == 0:\n",
        "#       print('Step {}, Loss {}'.format(current_step, loss.item()))\n",
        "\n",
        "#     # Compute gradients for each layer and update weights\n",
        "#     loss.backward()  # backward pass: computes gradients\n",
        "#     optimizer.step() # update weights based on accumulated gradients\n",
        "\n",
        "#     current_step += 1\n",
        "\n",
        "#   # Step the scheduler\n",
        "#   scheduler.step() \n",
        "\n",
        "\n",
        "################## MY TRAINING PROCESS FOR 1 - Data Preparation ##################\n",
        "# for epoch in range(NUM_EPOCHS):\n",
        "#   print('Starting epoch {}/{}, LR = {}'.format(epoch+1, NUM_EPOCHS, scheduler.get_lr()))\n",
        "\n",
        "#   # Iterate over the dataset\n",
        "#   for images, labels in myTrain_dataloader:\n",
        "\n",
        "#     # Bring data over the device of choice\n",
        "#     images = images.to(DEVICE)\n",
        "#     labels = labels.to(DEVICE)\n",
        "\n",
        "#     net.train() # Sets module in training mode\n",
        "\n",
        "#     # PyTorch, by default, accumulates gradients after each backward pass\n",
        "#     # We need to manually set the gradients to zero before starting a new iteration\n",
        "#     optimizer.zero_grad() # Zero-ing the gradients\n",
        "\n",
        "#     # Forward pass to the network\n",
        "#     outputs = net(images)\n",
        "\n",
        "#     # Compute loss based on output and ground truth\n",
        "#     loss = criterion(outputs, labels)\n",
        "\n",
        "#     # Log loss\n",
        "#     if current_step % LOG_FREQUENCY == 0:\n",
        "#       print('Step {}, Loss {}'.format(current_step, loss.item()))\n",
        "\n",
        "#     # Compute gradients for each layer and update weights\n",
        "#     loss.backward()  # backward pass: computes gradients\n",
        "#     optimizer.step() # update weights based on accumulated gradients\n",
        "\n",
        "#     current_step += 1\n",
        "\n",
        "#   # Step the scheduler\n",
        "#   scheduler.step() \n",
        "\n",
        "\n",
        "################## MY TRAINING PROCESS FOR 2 - Training from scratch ##################\n",
        "best_acc = -1\n",
        "for epoch in range(NUM_EPOCHS):\n",
        "  print('Starting epoch {}/{}, LR = {}'.format(epoch+1, NUM_EPOCHS, scheduler.get_lr()))\n",
        "\n",
        "  # Iterate over the dataset\n",
        "  for images, labels in TDL2:\n",
        "\n",
        "    # Bring data over the device of choice\n",
        "    images = images.to(DEVICE)\n",
        "    labels = labels.to(DEVICE)\n",
        "\n",
        "    net.train() # Sets module in training mode\n",
        "\n",
        "    # PyTorch, by default, accumulates gradients after each backward pass\n",
        "    # We need to manually set the gradients to zero before starting a new iteration\n",
        "    optimizer.zero_grad() # Zero-ing the gradients\n",
        "\n",
        "    # Forward pass to the network\n",
        "    outputs = net(images)\n",
        "\n",
        "    # Compute loss based on output and ground truth\n",
        "    loss = criterion(outputs, labels)\n",
        "\n",
        "    # Log loss\n",
        "    if current_step % LOG_FREQUENCY == 0:\n",
        "      print('Step {}, Loss {}'.format(current_step, loss.item()))\n",
        "\n",
        "    # Compute gradients for each layer and update weights\n",
        "    loss.backward()  # backward pass: computes gradients\n",
        "    optimizer.step() # update weights based on accumulated gradients\n",
        "\n",
        "    current_step += 1\n",
        "\n",
        "  ### Validation phase ###\n",
        "  net.train(False)\n",
        "\n",
        "  running_corrects = 0\n",
        "  for images_v, labels_v in EDL2:\n",
        "    images_v = images_v.to(DEVICE)\n",
        "    labels_v = labels_v.to(DEVICE)\n",
        "\n",
        "    # Forward Pass\n",
        "    outputs = net(images_v)\n",
        "\n",
        "    # Get predictions\n",
        "    _, preds = torch.max(outputs.data, 1)\n",
        "\n",
        "    # Update Corrects\n",
        "    running_corrects += torch.sum(preds == labels_v.data).data.item()\n",
        "\n",
        "  # Calculate Accuracy\n",
        "  accuracy = running_corrects / float(len(valid2))\n",
        "  print(\"\\nAccuracy = {}\\n\".format(accuracy))\n",
        "\n",
        "  if accuracy > best_acc:\n",
        "    bestnet = copy.deepcopy(net)\n",
        "    best_acc = accuracy\n",
        "\n",
        "  # Step the scheduler to change the LR\n",
        "  scheduler.step()\n",
        "\n",
        "print(\"\\n\\n\\n best net is: \")\n",
        "print(bestnet)"
      ],
      "execution_count": 0,
      "outputs": []
    },
    {
      "cell_type": "markdown",
      "metadata": {
        "id": "UsHFI-GAJd69",
        "colab_type": "text"
      },
      "source": [
        "**Test**"
      ]
    },
    {
      "cell_type": "code",
      "metadata": {
        "id": "EO3HV5pqJg1o",
        "colab_type": "code",
        "colab": {}
      },
      "source": [
        "### normal net to compare accuracy ###\n",
        "net = net.to(DEVICE) # this will bring the network to GPU if DEVICE is cuda\n",
        "net.train(False) # Set Network to evaluation mode\n",
        "\n",
        "running_corrects = 0\n",
        "for images, labels in tqdm(myTest_dataloader):\n",
        "  images = images.to(DEVICE)\n",
        "  labels = labels.to(DEVICE)\n",
        "\n",
        "  # Forward Pass\n",
        "  outputs = net(images)\n",
        "\n",
        "  # Get predictions\n",
        "  _, preds = torch.max(outputs.data, 1)\n",
        "\n",
        "  # Update Corrects\n",
        "  running_corrects += torch.sum(preds == labels.data).data.item()\n",
        "\n",
        "# Calculate Accuracy\n",
        "accuracy = running_corrects / float(len(myTestDS))\n",
        "\n",
        "print('\\nTest Normal Net Accuracy: {}'.format(accuracy))\n",
        "### end normale net ###\n",
        "\n",
        "bestnet = bestnet.to(DEVICE) # this will bring the network to GPU if DEVICE is cuda\n",
        "bestnet.train(False) # Set Network to evaluation mode\n",
        "\n",
        "running_corrects = 0\n",
        "for images, labels in tqdm(myTest_dataloader):\n",
        "  images = images.to(DEVICE)\n",
        "  labels = labels.to(DEVICE)\n",
        "\n",
        "  # Forward Pass\n",
        "  outputs = bestnet(images)\n",
        "\n",
        "  # Get predictions\n",
        "  _, preds = torch.max(outputs.data, 1)\n",
        "\n",
        "  # Update Corrects\n",
        "  running_corrects += torch.sum(preds == labels.data).data.item()\n",
        "\n",
        "# Calculate Accuracy\n",
        "accuracy = running_corrects / float(len(myTestDS))\n",
        "\n",
        "print('\\nTest Best Net Accuracy: {}'.format(accuracy))"
      ],
      "execution_count": 0,
      "outputs": []
    },
    {
      "cell_type": "markdown",
      "metadata": {
        "id": "DJumaymfwSJC",
        "colab_type": "text"
      },
      "source": [
        "**Test AlexNet with pre-trained weights**"
      ]
    },
    {
      "cell_type": "code",
      "metadata": {
        "id": "qrJ_J5cvwYWZ",
        "colab_type": "code",
        "colab": {}
      },
      "source": [
        "alexnet = models.alexnet(pretrained=True)\n",
        "\n",
        "alexnet.classifier[6] = nn.Linear(4096, NUM_CLASSES)\n",
        "\n",
        "alexnet = alexnet.to(DEVICE) # this will bring the network to GPU if DEVICE is cuda\n",
        "alexnet.train(False) # Set Network to evaluation mode\n",
        "\n",
        "running_corrects = 0\n",
        "for images, labels in tqdm(myTest_dataloader):\n",
        "  images = images.to(DEVICE)\n",
        "  labels = labels.to(DEVICE)\n",
        "\n",
        "  # Forward Pass\n",
        "  outputs = alexnet(images)\n",
        "\n",
        "  # Get predictions\n",
        "  _, preds = torch.max(outputs.data, 1)\n",
        "\n",
        "  # Update Corrects\n",
        "  running_corrects += torch.sum(preds == labels.data).data.item()\n",
        "\n",
        "# Calculate Accuracy\n",
        "accuracy = running_corrects / float(len(myTestDS))\n",
        "\n",
        "print('\\nTest Normal Net Accuracy: {}'.format(accuracy))"
      ],
      "execution_count": 0,
      "outputs": []
    }
  ]
}